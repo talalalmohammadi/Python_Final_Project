{
  "nbformat": 4,
  "nbformat_minor": 0,
  "metadata": {
    "colab": {
      "provenance": []
    },
    "kernelspec": {
      "name": "python3",
      "display_name": "Python 3"
    },
    "language_info": {
      "name": "python"
    }
  },
  "cells": [
    {
      "cell_type": "code",
      "source": [
        "pip install emoji-country-flag"
      ],
      "metadata": {
        "id": "hHqr57JE-Z06"
      },
      "execution_count": null,
      "outputs": []
    },
    {
      "cell_type": "code",
      "source": [
        "import matplotlib\n",
        "from matplotlib import pyplot as plt\n",
        "import flag\n",
        "import numpy as np\n",
        "import matplotlib.pyplot as plt\n",
        "from prettytable import PrettyTable as tp"
      ],
      "metadata": {
        "id": "7kQMSpNCpAsf"
      },
      "execution_count": 175,
      "outputs": []
    },
    {
      "cell_type": "code",
      "source": [
        "N = 10\n",
        "data = ( [['Flags','Total', 'New', 'Total Recvoerd', 'New Recvoerd', 'Total DED']] \n",
        "+ [['World','-', '609,583,586', '+235,380', '585,881,92896.1', '+308,872', '6,501,648']]\n",
        "+ [['USA','🇺🇸','96,581,002', '+0', '92,288,00395.6', '+0', '1,072,6731.1']]\n",
        "+ [['India','🇮🇳', '44,449,726', '+0', '43,865,0', '+0', '527,9651.2']]\n",
        "+ [['France','🇫🇷','34,564,246', '+0', '34,058,90598.5', '+-55', '154,1890.4']]\n",
        "+ [['Brasil','🇧🇷','34,505,351','+0','33,502,447','+0','684,3342.0']]\n",
        "+ [['Germany','🇩🇪','32,247,828','+0','31,378,400','+16,000','147,7620.5']]\n",
        "+ [['South Korea','🇰🇷','23,497,048','+79,623','21,475,22491.4','+84,064','27,014']]\n",
        "+ [['Italy','🇮🇹','21,247,828','+0','21,378,400','+0','175,7540.8']] )\n",
        "\n",
        "column_headers = data[0]\n",
        "row_headers = [row[0] for row in data[1:]]\n",
        "cell_text = [row[1:] for row in data[1:]]\n",
        "\n",
        "fig, ax1 = plt.subplots(figsize=(10, 2 + N / 2.5))\n",
        "\n",
        "rcolors = np.full(len(row_headers), 'tab:cyan')                          \n",
        "ccolors = np.full(len(column_headers), 'tab:cyan')\n",
        "\n",
        "table = ax1.table(cellText=cell_text,\n",
        "                  cellLoc='center',\n",
        "                  rowLabels=row_headers,\n",
        "                  rowColours=rcolors,\n",
        "                  rowLoc='center',\n",
        "                  colColours=ccolors,\n",
        "                  colLabels=column_headers,\n",
        "                  loc='center')\n",
        "table.scale(1, 2)\n",
        "table.set_fontsize(17)\n",
        "ax1.axis('off')\n",
        "\n",
        "title = \"Covid-19 Stats Table\"\n",
        "subtitle = \"Compare Between Top Country\"\n",
        "ax1.set_title(f'{title}\\n({subtitle})', weight='bold', size=20, color='k')\n",
        "\n",
        "plt.savefig(\"demo_table.png\", dpi=200, bbox_inches='tight')\n"
      ],
      "metadata": {
        "id": "DXUshI3UZM2p"
      },
      "execution_count": null,
      "outputs": []
    },
    {
      "cell_type": "code",
      "source": [
        "Total = [1.1,1.1,1.2,0.4,2.0,0.5,0.8,0.1,0.8] # Total of Dedath by Covid-19 in top Country \n",
        "\n",
        "range = (0, 1)\n",
        "bins = 10\n",
        "\n",
        "plt.hist(Total, bins, range, color = 'r',histtype = 'bar', rwidth = 0.7)\n",
        "plt.xlabel('Dedath')\n",
        "\n",
        "plt.ylabel('Case')\n",
        "\n",
        "plt.title('Coved-19 Percentage')\n",
        "\n",
        "plt.show()"
      ],
      "metadata": {
        "colab": {
          "base_uri": "https://localhost:8080/",
          "height": 295
        },
        "id": "1flQJk2x1vDn",
        "outputId": "cc4b1a6f-7874-4d2b-c75d-d98ec7e355d1"
      },
      "execution_count": 164,
      "outputs": [
        {
          "output_type": "display_data",
          "data": {
            "text/plain": [
              "<Figure size 432x288 with 1 Axes>"
            ],
            "image/png": "[encoded data removed]"
          },
          "metadata": {
            "needs_background": "light"
          }
        }
      ]
    },
    {
      "cell_type": "code",
      "source": [
        "flag.flagize(\":SA: ,:GB:\", subregions=True)\n"
      ],
      "metadata": {
        "colab": {
          "base_uri": "https://localhost:8080/",
          "height": 37
        },
        "id": "yFfhBiPGF4bl",
        "outputId": "d298d530-ce65-46e3-db5d-6bf223778f37"
      },
      "execution_count": 180,
      "outputs": [
        {
          "output_type": "execute_result",
          "data": {
            "text/plain": [
              "'🇸🇦 ,🇬🇧'"
            ],
            "application/vnd.google.colaboratory.intrinsic+json": {
              "type": "string"
            }
          },
          "metadata": {},
          "execution_count": 180
        }
      ]
    },
    {
      "cell_type": "code",
      "source": [
        "flag.flag(\"US\")"
      ],
      "metadata": {
        "colab": {
          "base_uri": "https://localhost:8080/",
          "height": 37
        },
        "id": "g3eM0L6bKU3S",
        "outputId": "90b6aa4c-6226-41a5-b463-66b7b1368695"
      },
      "execution_count": 181,
      "outputs": [
        {
          "output_type": "execute_result",
          "data": {
            "text/plain": [
              "'🇺🇸'"
            ],
            "application/vnd.google.colaboratory.intrinsic+json": {
              "type": "string"
            }
          },
          "metadata": {},
          "execution_count": 181
        }
      ]
    }
  ]
}